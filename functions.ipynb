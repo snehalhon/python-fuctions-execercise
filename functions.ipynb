{
 "cells": [
  {
   "cell_type": "code",
   "execution_count": 1,
   "id": "3120d791",
   "metadata": {},
   "outputs": [],
   "source": [
    "import pandas as pd"
   ]
  },
  {
   "cell_type": "markdown",
   "id": "1d2b09cf",
   "metadata": {},
   "source": [
    "###   Write a Python function to find the Max of three numbers"
   ]
  },
  {
   "cell_type": "code",
   "execution_count": 2,
   "id": "72ebf216",
   "metadata": {},
   "outputs": [
    {
     "name": "stdout",
     "output_type": "stream",
     "text": [
      "enter first number45\n",
      "enter second number3\n",
      "enter third number67\n",
      "67 greater\n"
     ]
    }
   ],
   "source": [
    "def max(a,b,c):\n",
    "    if(a>b and a>c):\n",
    "        print(a,\"greater\")\n",
    "    elif(b>c and b>a):\n",
    "        print(b,\"greater\")\n",
    "    else:\n",
    "        print(c,\"greater\")\n",
    "first=int(input(\"enter first number\"))\n",
    "second=int(input(\"enter second number\"))\n",
    "third=int(input(\"enter third number\"))\n",
    "max(first,second,third)\n"
   ]
  },
  {
   "cell_type": "markdown",
   "id": "3023a488",
   "metadata": {},
   "source": [
    "### Write a Python function to sum all the numbers in a list"
   ]
  },
  {
   "cell_type": "code",
   "execution_count": 9,
   "id": "faebec2a",
   "metadata": {},
   "outputs": [
    {
     "name": "stdout",
     "output_type": "stream",
     "text": [
      "1:insrt element,2:stop1\n",
      "enetr element :3\n",
      "1:insrt element,2:stop1\n",
      "enetr element :4\n",
      "1:insrt element,2:stop1\n",
      "enetr element :5\n",
      "1:insrt element,2:stop1\n",
      "enetr element :7\n",
      "1:insrt element,2:stop1\n",
      "enetr element :8\n",
      "1:insrt element,2:stop2\n",
      "[3, 4, 5, 7, 8] 27\n"
     ]
    }
   ],
   "source": [
    "list1=[]\n",
    "sum=0\n",
    "while(1):\n",
    "    x=int(input(\"1:insrt element,2:stop\"))\n",
    "    if(x==1):\n",
    "        item=int(input(\"enetr element :\"))\n",
    "        list1.append(item)\n",
    "        sum=sum+item\n",
    "    else:\n",
    "        break\n",
    "print(list1,sum)\n",
    "        "
   ]
  },
  {
   "cell_type": "markdown",
   "id": "8df997ed",
   "metadata": {},
   "source": [
    "### Write a Python program to reverse a string"
   ]
  },
  {
   "cell_type": "code",
   "execution_count": 32,
   "id": "dbe4a786",
   "metadata": {},
   "outputs": [
    {
     "name": "stdout",
     "output_type": "stream",
     "text": [
      "enter stringsneha\n",
      "ahens\n"
     ]
    }
   ],
   "source": [
    "def revr_1(str):\n",
    "    rever=''\n",
    "    n=len(str)\n",
    "   \n",
    "    while (n>0):\n",
    "        rever+=str[n-1]\n",
    "        n=n-1\n",
    "       \n",
    "    print(rever)\n",
    "              \n",
    "        \n",
    "string=input(\"enter string\")\n",
    "revr_1(string)\n"
   ]
  },
  {
   "cell_type": "markdown",
   "id": "5fffc1b7",
   "metadata": {},
   "source": [
    "### Write a Python function that accepts a string and calculate the number of upper case letters and lower case letters. Go to the editor\n",
    "Sample String : 'The quick Brow Fox'\n",
    "Expected Output :\n",
    "No. of Upper case characters : 3\n",
    "No. of Lower case Characters : 12"
   ]
  },
  {
   "cell_type": "code",
   "execution_count": 35,
   "id": "18090d59",
   "metadata": {},
   "outputs": [
    {
     "name": "stdout",
     "output_type": "stream",
     "text": [
      "enter your string snEHal1\n",
      "your string was: snEHal1 \n",
      "\n",
      "{'lower': 4, 'upper': 2}\n"
     ]
    }
   ],
   "source": [
    "dict={\"lower\":0,\"upper\":0}\n",
    "\n",
    "def cal_str(str):\n",
    "    for i in str:\n",
    "        if (i.islower()):\n",
    "            dict[\"lower\"]+=1\n",
    "        elif(i.isupper()):\n",
    "            dict[\"upper\"]+=1\n",
    "    print(\"your string was:\",str,\"\\n\")\n",
    "    print(dict)\n",
    "str_1=input(\"enter your string \")\n",
    "cal_str(str_1)\n",
    "    "
   ]
  }
 ],
 "metadata": {
  "kernelspec": {
   "display_name": "Python 3",
   "language": "python",
   "name": "python3"
  },
  "language_info": {
   "codemirror_mode": {
    "name": "ipython",
    "version": 3
   },
   "file_extension": ".py",
   "mimetype": "text/x-python",
   "name": "python",
   "nbconvert_exporter": "python",
   "pygments_lexer": "ipython3",
   "version": "3.8.8"
  }
 },
 "nbformat": 4,
 "nbformat_minor": 5
}
